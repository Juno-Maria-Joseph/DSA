{
  "nbformat": 4,
  "nbformat_minor": 0,
  "metadata": {
    "colab": {
      "provenance": [],
      "authorship_tag": "ABX9TyO6s+1j2JuUf2m1/D9xKKz6",
      "include_colab_link": true
    },
    "kernelspec": {
      "name": "python3",
      "display_name": "Python 3"
    },
    "language_info": {
      "name": "python"
    }
  },
  "cells": [
    {
      "cell_type": "markdown",
      "metadata": {
        "id": "view-in-github",
        "colab_type": "text"
      },
      "source": [
        "<a href=\"https://colab.research.google.com/github/Juno-Maria-Joseph/DSA/blob/main/Classes.ipynb\" target=\"_parent\"><img src=\"https://colab.research.google.com/assets/colab-badge.svg\" alt=\"Open In Colab\"/></a>"
      ]
    },
    {
      "cell_type": "markdown",
      "source": [
        "# `**Classes**\n",
        "\n",
        "\n",
        "\n",
        "*   A Class is an abstaction of entities that contains common set of properties and methods.\n",
        "*   A Class is like an object constructor, or a \"blueprint\" for creating objects.\n",
        "\n",
        "*   To create a class, use the keyword class.\n",
        "\n",
        "\n"
      ],
      "metadata": {
        "id": "YPgebbNhyWfW"
      }
    },
    {
      "cell_type": "code",
      "execution_count": null,
      "metadata": {
        "id": "5r7fP_PpIXxP",
        "colab": {
          "base_uri": "https://localhost:8080/",
          "height": 53
        },
        "outputId": "5c2f1150-3e78-4b90-bf30-85938d4f50cc"
      },
      "outputs": [
        {
          "output_type": "execute_result",
          "data": {
            "text/plain": [
              "\"\\nHuman\\n  ==> Properties\\n      -> Name\\n      -> Age\\n      -> Occupation\\n      -> What's the DOB\\n  ==> Activities (Methods)\\n      -> What_work()\\n      ->.....\\n\""
            ],
            "application/vnd.google.colaboratory.intrinsic+json": {
              "type": "string"
            }
          },
          "metadata": {},
          "execution_count": 1
        }
      ],
      "source": [
        "\"\"\"\n",
        "Human\n",
        "  ==> Properties\n",
        "      -> Name\n",
        "      -> Age\n",
        "      -> Occupation\n",
        "      -> What's the DOB\n",
        "  ==> Activities (Methods)\n",
        "      -> What_work()\n",
        "      ->.....\n",
        "\"\"\""
      ]
    },
    {
      "cell_type": "code",
      "source": [
        "class Human:\n",
        "  def __init__(self, name, age, occupation):\n",
        "    self.name = name\n",
        "    self.age = age\n",
        "    self.occupation = occupation\n",
        "  def What_work(self):\n",
        "    return f\"This Human does this {self.occupation} work.\""
      ],
      "metadata": {
        "id": "TF4djpw2-DgD"
      },
      "execution_count": null,
      "outputs": []
    },
    {
      "cell_type": "code",
      "source": [
        "venu = Human(\"venu\", \"20\", \"Data Scientist\")"
      ],
      "metadata": {
        "id": "eWWCGJfoDUvO"
      },
      "execution_count": null,
      "outputs": []
    },
    {
      "cell_type": "code",
      "source": [
        "venu.name"
      ],
      "metadata": {
        "colab": {
          "base_uri": "https://localhost:8080/",
          "height": 35
        },
        "id": "OUPbuAL7EhYo",
        "outputId": "02d12b0e-df93-4907-9b74-0fe1d9131fe5"
      },
      "execution_count": null,
      "outputs": [
        {
          "output_type": "execute_result",
          "data": {
            "text/plain": [
              "'venu'"
            ],
            "application/vnd.google.colaboratory.intrinsic+json": {
              "type": "string"
            }
          },
          "metadata": {},
          "execution_count": 11
        }
      ]
    },
    {
      "cell_type": "code",
      "source": [
        "venu.occupation"
      ],
      "metadata": {
        "colab": {
          "base_uri": "https://localhost:8080/",
          "height": 35
        },
        "id": "8hI9QKCnEzvF",
        "outputId": "f7ebc68a-d39c-4f9a-a804-cc99e8413571"
      },
      "execution_count": null,
      "outputs": [
        {
          "output_type": "execute_result",
          "data": {
            "text/plain": [
              "'Data Scientist'"
            ],
            "application/vnd.google.colaboratory.intrinsic+json": {
              "type": "string"
            }
          },
          "metadata": {},
          "execution_count": 12
        }
      ]
    },
    {
      "cell_type": "code",
      "source": [
        "venu.age"
      ],
      "metadata": {
        "colab": {
          "base_uri": "https://localhost:8080/",
          "height": 35
        },
        "id": "tVxPGDAjE7gF",
        "outputId": "746ee5a2-3517-4bc5-fcfe-914173e575c4"
      },
      "execution_count": null,
      "outputs": [
        {
          "output_type": "execute_result",
          "data": {
            "text/plain": [
              "'20'"
            ],
            "application/vnd.google.colaboratory.intrinsic+json": {
              "type": "string"
            }
          },
          "metadata": {},
          "execution_count": 13
        }
      ]
    },
    {
      "cell_type": "code",
      "source": [
        "venu.What_work()"
      ],
      "metadata": {
        "colab": {
          "base_uri": "https://localhost:8080/",
          "height": 35
        },
        "id": "OALoumpnOF4f",
        "outputId": "63fb044f-810e-4511-93fb-3dc5e0ad3786"
      },
      "execution_count": null,
      "outputs": [
        {
          "output_type": "execute_result",
          "data": {
            "text/plain": [
              "'This Human does this Data Scientist work.'"
            ],
            "application/vnd.google.colaboratory.intrinsic+json": {
              "type": "string"
            }
          },
          "metadata": {},
          "execution_count": 15
        }
      ]
    },
    {
      "cell_type": "code",
      "source": [
        "class Node:\n",
        "   def __init__(self, value):\n",
        "      self.value = value\n",
        "      self.next = None"
      ],
      "metadata": {
        "id": "3Ckgjm_TeUeS"
      },
      "execution_count": null,
      "outputs": []
    },
    {
      "cell_type": "code",
      "source": [
        "n1 = Node(1)\n",
        "n2 = Node(2)"
      ],
      "metadata": {
        "id": "dVMuYrkFeh5r"
      },
      "execution_count": null,
      "outputs": []
    },
    {
      "cell_type": "code",
      "source": [
        "n1.value"
      ],
      "metadata": {
        "colab": {
          "base_uri": "https://localhost:8080/"
        },
        "id": "tTDuxIT9e0By",
        "outputId": "264e9bef-9fbe-436a-ba25-c3fe39df39d3"
      },
      "execution_count": null,
      "outputs": [
        {
          "output_type": "execute_result",
          "data": {
            "text/plain": [
              "1"
            ]
          },
          "metadata": {},
          "execution_count": 33
        }
      ]
    },
    {
      "cell_type": "code",
      "source": [
        "n1.next"
      ],
      "metadata": {
        "id": "QA-bZvr8hGCP"
      },
      "execution_count": null,
      "outputs": []
    },
    {
      "cell_type": "code",
      "source": [
        "print(n1.next)"
      ],
      "metadata": {
        "colab": {
          "base_uri": "https://localhost:8080/"
        },
        "id": "wIRjp_Rahwo9",
        "outputId": "34f6dd62-56eb-4c49-e8c7-f70f700b29eb"
      },
      "execution_count": null,
      "outputs": [
        {
          "output_type": "stream",
          "name": "stdout",
          "text": [
            "None\n"
          ]
        }
      ]
    },
    {
      "cell_type": "code",
      "source": [
        "n1.next = n2"
      ],
      "metadata": {
        "id": "Q1uYzTsFh1VS"
      },
      "execution_count": null,
      "outputs": []
    },
    {
      "cell_type": "code",
      "source": [
        "print(n1.next)"
      ],
      "metadata": {
        "colab": {
          "base_uri": "https://localhost:8080/"
        },
        "id": "CTutLrnWiCAx",
        "outputId": "d3770401-5073-4ca7-eb86-a1ca4820fcf3"
      },
      "execution_count": null,
      "outputs": [
        {
          "output_type": "stream",
          "name": "stdout",
          "text": [
            "<__main__.Node object at 0x7e22fe513c50>\n"
          ]
        }
      ]
    },
    {
      "cell_type": "code",
      "source": [
        "n1.next.value"
      ],
      "metadata": {
        "colab": {
          "base_uri": "https://localhost:8080/"
        },
        "id": "2bnjw3FViHnh",
        "outputId": "9b512c68-f734-4b58-fc5d-0d1b1e40e1bb"
      },
      "execution_count": null,
      "outputs": [
        {
          "output_type": "execute_result",
          "data": {
            "text/plain": [
              "2"
            ]
          },
          "metadata": {},
          "execution_count": 38
        }
      ]
    },
    {
      "cell_type": "markdown",
      "source": [
        "## **Scopes**\n",
        "*   Local\n",
        "*   Non Local\n",
        "*   Global\n",
        "\n",
        "\n",
        "\n",
        "\n"
      ],
      "metadata": {
        "id": "uGlaguTee7ls"
      }
    },
    {
      "cell_type": "code",
      "source": [
        "def cloudyml():\n",
        "    def local_function():\n",
        "        name = \"Python\"\n",
        "    def non_local():\n",
        "        nonlocal name\n",
        "        name = \"Python\"\n",
        "    def global_function():\n",
        "        global name\n",
        "        name = \"Data Science\"\n",
        "\n",
        "    name = \"CloudyML\"\n",
        "    print (name)\n",
        "    local_function()\n",
        "    print(name)\n",
        "    non_local()\n",
        "    print(name)\n",
        "    global_function()\n",
        "    print(name)\n",
        "\n",
        "\n",
        "cloudyml()\n",
        "print(name)\n"
      ],
      "metadata": {
        "id": "inhcOClBitLI",
        "colab": {
          "base_uri": "https://localhost:8080/"
        },
        "outputId": "8d9d08d5-bd13-4e1e-a2b7-1fc844ac843c"
      },
      "execution_count": null,
      "outputs": [
        {
          "output_type": "stream",
          "name": "stdout",
          "text": [
            "CloudyML\n",
            "CloudyML\n",
            "Python\n",
            "Python\n",
            "Data Science\n"
          ]
        }
      ]
    },
    {
      "cell_type": "markdown",
      "source": [
        "## **Class and Instance Variable**"
      ],
      "metadata": {
        "id": "C9TgtNw4IpEc"
      }
    },
    {
      "cell_type": "code",
      "source": [
        "class CloudyML:\n",
        "  ceo = \"Akash\"\n",
        "  def __init__(self, course, course_id):\n",
        "     self.course = course\n",
        "     self.course_id = course_id\n",
        "  def show(self):\n",
        "     print(f\"This is course:{self.course} with course id:{self.course_id}\")"
      ],
      "metadata": {
        "id": "7hP24hsiBzXM"
      },
      "execution_count": null,
      "outputs": []
    },
    {
      "cell_type": "code",
      "source": [
        "obj1 = CloudyML(\"Data Analysis\", \"da1\")\n",
        "print(obj1.ceo)\n",
        "obj1.show()\n",
        "print(obj1.course, obj1.course_id)"
      ],
      "metadata": {
        "colab": {
          "base_uri": "https://localhost:8080/"
        },
        "id": "xM1Slx7wM7KJ",
        "outputId": "779924aa-498a-4532-f2eb-09321988f0da"
      },
      "execution_count": null,
      "outputs": [
        {
          "output_type": "stream",
          "name": "stdout",
          "text": [
            "Akash\n",
            "This is course:Data Analysis with course id:da1\n",
            "Data Analysis da1\n"
          ]
        }
      ]
    },
    {
      "cell_type": "code",
      "source": [
        "obj2 = CloudyML(\"Data Science\", \"ds2\")\n",
        "print(obj1.ceo)\n",
        "obj2.show()\n",
        "print(obj2.course, obj2.course_id)"
      ],
      "metadata": {
        "colab": {
          "base_uri": "https://localhost:8080/"
        },
        "id": "mf5vDbyuN5fm",
        "outputId": "e2a7363c-36ac-47bf-86a8-58618f29f81e"
      },
      "execution_count": null,
      "outputs": [
        {
          "output_type": "stream",
          "name": "stdout",
          "text": [
            "Akash\n",
            "This is course:Data Science with course id:ds2\n",
            "Data Science ds2\n"
          ]
        }
      ]
    },
    {
      "cell_type": "code",
      "source": [
        "CloudyML.ceo"
      ],
      "metadata": {
        "colab": {
          "base_uri": "https://localhost:8080/",
          "height": 35
        },
        "id": "PGjZYaTIxTcd",
        "outputId": "3063fe87-4f11-4a53-a6f6-9ae24f562c82"
      },
      "execution_count": null,
      "outputs": [
        {
          "output_type": "execute_result",
          "data": {
            "text/plain": [
              "'Akash'"
            ],
            "application/vnd.google.colaboratory.intrinsic+json": {
              "type": "string"
            }
          },
          "metadata": {},
          "execution_count": 5
        }
      ]
    },
    {
      "cell_type": "markdown",
      "source": [
        "## **Inheritance and Private Variables**\n",
        "\n",
        "*   The process of inheriting the properties of parent class into child class is known as inheritance.\n",
        "*   Naming mangling can be used to access private class attribute.\n",
        "\n"
      ],
      "metadata": {
        "id": "O6P8W6UwzoP3"
      }
    },
    {
      "cell_type": "markdown",
      "source": [
        "### **Simple Inheritance**"
      ],
      "metadata": {
        "id": "vXMVmLXUSHRi"
      }
    },
    {
      "cell_type": "code",
      "source": [
        "class Parent:\n",
        "  def function1(self):\n",
        "     print(\"This is the parent function\")\n",
        "class Child (Parent):\n",
        "  def function2(self):\n",
        "     print(\"This is the child function\")"
      ],
      "metadata": {
        "id": "HTxayeNA3ORe"
      },
      "execution_count": 3,
      "outputs": []
    },
    {
      "cell_type": "code",
      "source": [
        "child = Child()\n",
        "child.function2()"
      ],
      "metadata": {
        "colab": {
          "base_uri": "https://localhost:8080/"
        },
        "id": "6JmZqJ7p4TzP",
        "outputId": "fd8ff042-df09-474c-acf3-7d7f481b9e33"
      },
      "execution_count": 5,
      "outputs": [
        {
          "output_type": "stream",
          "name": "stdout",
          "text": [
            "This is the child function\n"
          ]
        }
      ]
    },
    {
      "cell_type": "code",
      "source": [
        "child.function1()"
      ],
      "metadata": {
        "colab": {
          "base_uri": "https://localhost:8080/"
        },
        "id": "SB5ni1jJ4T8W",
        "outputId": "b716596f-7ac5-4530-dcfc-0a522d80c537"
      },
      "execution_count": 6,
      "outputs": [
        {
          "output_type": "stream",
          "name": "stdout",
          "text": [
            "This is the parent function\n"
          ]
        }
      ]
    },
    {
      "cell_type": "markdown",
      "source": [
        "### **Multilevel Inheritance**"
      ],
      "metadata": {
        "id": "TVu5ZA6S5ZkG"
      }
    },
    {
      "cell_type": "code",
      "source": [
        "class Parent:\n",
        "  def function1(self):\n",
        "     print(\"This is the parent function\")\n",
        "class Child1 (Parent):\n",
        "  def function2(self):\n",
        "     print(\"This is the child1 function\")\n",
        "class Child2 (Child1):\n",
        "  def function3(self):\n",
        "     print(\"This is the child2 function\")\n"
      ],
      "metadata": {
        "id": "OMTYT9XR4UBP"
      },
      "execution_count": 12,
      "outputs": []
    },
    {
      "cell_type": "code",
      "source": [
        "child2 = Child2()\n",
        "child2.function1()\n",
        "child2.function2()\n",
        "child2.function3()"
      ],
      "metadata": {
        "id": "e30HVpQmzm8K",
        "colab": {
          "base_uri": "https://localhost:8080/"
        },
        "outputId": "a8f797f1-f5a4-4333-936d-9b5d2f9359dd"
      },
      "execution_count": 13,
      "outputs": [
        {
          "output_type": "stream",
          "name": "stdout",
          "text": [
            "This is the parent function\n",
            "This is the child1 function\n",
            "This is the child2 function\n"
          ]
        }
      ]
    },
    {
      "cell_type": "code",
      "source": [
        "class CloudyML:\n",
        "  def __init__(self, course, course_id):\n",
        "     self._course = course\n",
        "     self.__course_id = course_id\n",
        "  def show(self):\n",
        "     print(f\"This is course:{self._course} with course id:{self.__course_id}\")"
      ],
      "metadata": {
        "id": "iFM5Dl4gE7XQ"
      },
      "execution_count": 17,
      "outputs": []
    },
    {
      "cell_type": "code",
      "source": [
        "cloudyml = CloudyML(\"Data Science\", \"ds1\")\n",
        "cloudyml.show()"
      ],
      "metadata": {
        "colab": {
          "base_uri": "https://localhost:8080/"
        },
        "id": "IIqgJVoQHVVo",
        "outputId": "19699ae6-a97a-4b09-e966-d091104472e3"
      },
      "execution_count": 18,
      "outputs": [
        {
          "output_type": "stream",
          "name": "stdout",
          "text": [
            "This is course:Data Science with course id:ds1\n"
          ]
        }
      ]
    },
    {
      "cell_type": "code",
      "source": [
        "cloudyml._course"
      ],
      "metadata": {
        "colab": {
          "base_uri": "https://localhost:8080/",
          "height": 35
        },
        "id": "uRdVuONrHzEy",
        "outputId": "08e1b1c3-c985-4072-bda5-3ff0962a0800"
      },
      "execution_count": 19,
      "outputs": [
        {
          "output_type": "execute_result",
          "data": {
            "text/plain": [
              "'Data Science'"
            ],
            "application/vnd.google.colaboratory.intrinsic+json": {
              "type": "string"
            }
          },
          "metadata": {},
          "execution_count": 19
        }
      ]
    },
    {
      "cell_type": "code",
      "source": [
        "cloudyml._CloudyML__course_id"
      ],
      "metadata": {
        "colab": {
          "base_uri": "https://localhost:8080/",
          "height": 35
        },
        "id": "nvK2nCFMIcDg",
        "outputId": "b33248af-3b2a-438d-b234-9f9e9ef984c7"
      },
      "execution_count": 20,
      "outputs": [
        {
          "output_type": "execute_result",
          "data": {
            "text/plain": [
              "'ds1'"
            ],
            "application/vnd.google.colaboratory.intrinsic+json": {
              "type": "string"
            }
          },
          "metadata": {},
          "execution_count": 20
        }
      ]
    }
  ]
}